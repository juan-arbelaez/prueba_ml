{
 "cells": [
  {
   "cell_type": "code",
   "execution_count": null,
   "metadata": {},
   "outputs": [],
   "source": [
    "from transformers import pipeline\n",
    "\n",
    "# Cargar el modelo de análisis de sentimientos\n",
    "classifier = pipeline(\"sentiment-analysis\", model=\"nlptown/bert-base-multilingual-uncased-sentiment\", framework=\"tf\")\n",
    "\n",
    "# Lista de frases de prueba\n",
    "reviews = [\n",
    "    \"The service was excellent and the food was great!\",  # Positivo\n",
    "    \"I had an amazing experience, I will definitely come back!\",  # Positivo\n",
    "    \"The food was okay, but the service was slow.\",  # Neutro\n",
    "    \"Not impressed at all. The food was cold and tasteless.\",  # Negativo\n",
    "    \"Absolutely terrible! I will never eat here again.\",  # Negativo\n",
    "    \"The movie was outstanding, I loved every moment of it!\",  # Positivo\n",
    "    \"El servicio fue excelente y la comida deliciosa.\",  # Español - Positivo\n",
    "    \"La película fue aburrida y demasiado larga.\",  # Español - Negativo\n",
    "    \"Das Essen war unglaublich, ich werde definitiv wiederkommen!\",  # Alemán - Positivo\n",
    "    \"Je ne recommande pas ce restaurant, très décevant.\",  # Francés - Negativo\n",
    "]\n",
    "\n",
    "# Evaluar cada frase\n",
    "for review in reviews:\n",
    "    result = classifier(review)\n",
    "    print(f\"Reseña: {review}\")\n",
    "    print(f\"Predicción: {result}\\n\")\n"
   ]
  },
  {
   "cell_type": "code",
   "execution_count": null,
   "metadata": {},
   "outputs": [],
   "source": []
  }
 ],
 "metadata": {
  "kernelspec": {
   "display_name": "venv",
   "language": "python",
   "name": "python3"
  },
  "language_info": {
   "codemirror_mode": {
    "name": "ipython",
    "version": 3
   },
   "file_extension": ".py",
   "mimetype": "text/x-python",
   "name": "python",
   "nbconvert_exporter": "python",
   "pygments_lexer": "ipython3",
   "version": "3.9.13"
  }
 },
 "nbformat": 4,
 "nbformat_minor": 2
}
